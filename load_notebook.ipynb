{
 "cells": [
  {
   "cell_type": "code",
   "execution_count": null,
   "id": "689a263e",
   "metadata": {},
   "outputs": [],
   "source": [
    "import pandas as pd\n",
    "import sqlalchemy\n",
    "from sqlalchemy import inspect, create_engine, select\n",
    "import numpy as np"
   ]
  },
  {
   "cell_type": "markdown",
   "id": "5d63a046",
   "metadata": {},
   "source": [
    "## Dataframe to load"
   ]
  },
  {
   "cell_type": "code",
   "execution_count": null,
   "id": "d47afcf5",
   "metadata": {},
   "outputs": [],
   "source": [
    "database_insert_csv = pd.read_csv('static/data/english_dataset.csv')\n",
    "database_insert_csv"
   ]
  },
  {
   "cell_type": "markdown",
   "id": "f9feb767",
   "metadata": {},
   "source": [
    "## Database connection"
   ]
  },
  {
   "cell_type": "code",
   "execution_count": null,
   "id": "c1250d88",
   "metadata": {},
   "outputs": [],
   "source": [
    "protocol = \n",
    "username = \n",
    "password = \n",
    "host = \n",
    "port = \n",
    "db_name = \n",
    "rds_connection_string = f'{protocol}://{username}:{password}@{host}:{port}/{db_name}'\n",
    "engine = create_engine(rds_connection_string)"
   ]
  },
  {
   "cell_type": "code",
   "execution_count": null,
   "id": "49fde4e8",
   "metadata": {},
   "outputs": [],
   "source": []
  }
 ],
 "metadata": {
  "kernelspec": {
   "display_name": "Python 3 (ipykernel)",
   "language": "python",
   "name": "python3"
  },
  "language_info": {
   "codemirror_mode": {
    "name": "ipython",
    "version": 3
   },
   "file_extension": ".py",
   "mimetype": "text/x-python",
   "name": "python",
   "nbconvert_exporter": "python",
   "pygments_lexer": "ipython3",
   "version": "3.8.13"
  }
 },
 "nbformat": 4,
 "nbformat_minor": 5
}
