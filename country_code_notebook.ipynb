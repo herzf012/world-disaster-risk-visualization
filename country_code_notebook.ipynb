{
 "cells": [
  {
   "cell_type": "code",
   "execution_count": null,
   "id": "26f0b3d4",
   "metadata": {},
   "outputs": [],
   "source": [
    "import pandas as pd\n",
    "import numpy as np"
   ]
  },
  {
   "cell_type": "markdown",
   "id": "2e1b4312",
   "metadata": {},
   "source": [
    "## Attempt using country_codes_combined.csv"
   ]
  },
  {
   "cell_type": "code",
   "execution_count": null,
   "id": "05878884",
   "metadata": {},
   "outputs": [],
   "source": [
    "country_codes_csv = pd.read_csv('data/country_codes_combined.csv')"
   ]
  },
  {
   "cell_type": "code",
   "execution_count": null,
   "id": "a1ce93cd",
   "metadata": {},
   "outputs": [],
   "source": [
    "country_codes_csv = country_codes_csv[ ['alpha2','de','en'] ]\n",
    "country_codes_df = country_codes_csv.copy()\n",
    "country_codes_df.head()"
   ]
  },
  {
   "cell_type": "code",
   "execution_count": null,
   "id": "c83b3152",
   "metadata": {
    "scrolled": true
   },
   "outputs": [],
   "source": [
    "world_risk_index_csv = pd.read_csv('data/world_risk_index.csv')\n",
    "world_risk_index_csv.head()"
   ]
  },
  {
   "cell_type": "code",
   "execution_count": null,
   "id": "25e89270",
   "metadata": {},
   "outputs": [],
   "source": [
    "print(f'Rows in country_codes_df: {len(country_codes_df.index)}')\n",
    "print(f'Rows in country_codes_df: {len(world_risk_index_csv.index)}')"
   ]
  },
  {
   "cell_type": "code",
   "execution_count": null,
   "id": "31dcf5ed",
   "metadata": {},
   "outputs": [],
   "source": [
    "merged_df_en = world_risk_index_csv.merge(country_codes_df, how='left', left_on='Region', right_on='en')\n",
    "merged_df_de = world_risk_index_csv.merge(country_codes_df, how='left', left_on='Region', right_on='de')\n",
    "merged_all = pd.concat([merged_df_en, merged_df_de])\n",
    "merged_dropped = merged_all.dropna().copy()"
   ]
  },
  {
   "cell_type": "code",
   "execution_count": null,
   "id": "35c59e0f",
   "metadata": {},
   "outputs": [],
   "source": [
    "merged_world = merged_dropped.merge(world_risk_index_csv,how='right')\n",
    "merged_final = merged_world.drop_duplicates(ignore_index=True).copy()"
   ]
  },
  {
   "cell_type": "code",
   "execution_count": null,
   "id": "3f167046",
   "metadata": {},
   "outputs": [],
   "source": [
    "merged_final[merged_final['alpha2'].isnull()]"
   ]
  },
  {
   "cell_type": "markdown",
   "id": "025db086",
   "metadata": {},
   "source": [
    "## Attempt at Pulling From Additional Source"
   ]
  },
  {
   "cell_type": "code",
   "execution_count": null,
   "id": "f30e0514",
   "metadata": {},
   "outputs": [],
   "source": [
    "ger_url = \"https://www.oenb.at/Statistik/Klassifikationen/ISO-Codes/ISO-Code-Verzeichnis-fuer-Laender--und-Waehrungscodes.html\"\n",
    "ger_codes = pd.read_html(ger_url)\n",
    "ger_code_draft = ger_codes[0].copy()\n",
    "ger_code_df = ger_code_draft[ ['Land','ISO-Code (Land)'] ]\n",
    "ger_code_df = ger_code_df.fillna(\"\").copy()\n",
    "ger_code_df_clean =  ger_code_df.loc[ger_code_df['ISO-Code (Land)']!='一一一']\n",
    "ger_code_df_clean"
   ]
  },
  {
   "cell_type": "code",
   "execution_count": null,
   "id": "1939a1a6",
   "metadata": {
    "scrolled": true
   },
   "outputs": [],
   "source": [
    "world_risk_index_csv.merge(ger_code_df_clean, how='left', left_on='Region', right_on='Land')"
   ]
  },
  {
   "cell_type": "code",
   "execution_count": null,
   "id": "e0fbbf71",
   "metadata": {},
   "outputs": [],
   "source": [
    "url = \"https://cloford.com/resources/codes/index.htm\"\n",
    "\n",
    "country_code_import = pd.read_html(url)\n",
    "country_code_draft = country_code_import[3].copy()\n",
    "country_code_df = country_code_draft[  ['Country','ISO (2)','Continent','Region','Capital' ]  ]"
   ]
  },
  {
   "cell_type": "code",
   "execution_count": null,
   "id": "c63f2dc2",
   "metadata": {},
   "outputs": [],
   "source": [
    "ger_url = \"https://www.oenb.at/Statistik/Klassifikationen/ISO-Codes/ISO-Code-Verzeichnis-fuer-Laender--und-Waehrungscodes.html\"\n",
    "ger_codes = pd.read_html(ger_url)\n",
    "ger_code_draft = ger_codes[0].copy()\n",
    "ger_code_df = ger_code_draft[ ['Land','ISO-Code (Land)'] ]\n",
    "ger_code_df = ger_code_df.fillna(\"\").copy()\n",
    "ger_code_df_clean =  ger_code_df.loc[ger_code_df['ISO-Code (Land)']!='一一一']\n",
    "ger_code_df_clean"
   ]
  },
  {
   "cell_type": "code",
   "execution_count": null,
   "id": "2d76cf4c",
   "metadata": {},
   "outputs": [],
   "source": [
    "merged_import_codes = ger_code_df_clean.merge(country_code_df, left_on='ISO-Code (Land)', right_on='ISO (2)').copy()\n",
    "merged_import_codes_rename= merged_import_codes.rename(columns={'Region':'Area'}).copy()"
   ]
  },
  {
   "cell_type": "code",
   "execution_count": null,
   "id": "ba7bc238",
   "metadata": {},
   "outputs": [],
   "source": [
    "merged_df_import_de = world_risk_index_csv.merge(merged_import_codes_rename, how='left', left_on='Region', right_on='Land')\n",
    "merged_df_import_en = world_risk_index_csv.merge(merged_import_codes_rename, how='left', left_on='Region', right_on='Country')\n",
    "import_merged_all = pd.concat([merged_df_import_en, merged_df_import_de])\n",
    "import_merged_dropped = import_merged_all.dropna().copy()\n",
    "import_merged_world = import_merged_dropped.merge(world_risk_index_csv,how='right')\n",
    "import_merged_final = import_merged_world.drop_duplicates(ignore_index=True).copy()"
   ]
  },
  {
   "cell_type": "code",
   "execution_count": null,
   "id": "678a3522",
   "metadata": {},
   "outputs": [],
   "source": [
    "import_merged_final"
   ]
  },
  {
   "cell_type": "code",
   "execution_count": null,
   "id": "9edb5735",
   "metadata": {},
   "outputs": [],
   "source": []
  }
 ],
 "metadata": {
  "kernelspec": {
   "display_name": "Python 3 (ipykernel)",
   "language": "python",
   "name": "python3"
  },
  "language_info": {
   "codemirror_mode": {
    "name": "ipython",
    "version": 3
   },
   "file_extension": ".py",
   "mimetype": "text/x-python",
   "name": "python",
   "nbconvert_exporter": "python",
   "pygments_lexer": "ipython3",
   "version": "3.8.13"
  }
 },
 "nbformat": 4,
 "nbformat_minor": 5
}
