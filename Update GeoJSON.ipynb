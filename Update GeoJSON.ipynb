{
 "cells": [
  {
   "cell_type": "markdown",
   "id": "e4301601",
   "metadata": {},
   "source": [
    "# Adding WRI to GeoJSON file"
   ]
  },
  {
   "cell_type": "code",
   "execution_count": null,
   "id": "f2971e53",
   "metadata": {},
   "outputs": [],
   "source": [
    "#Dependentices\n",
    "import json\n",
    "import pandas as pd"
   ]
  },
  {
   "cell_type": "markdown",
   "id": "360d9d04",
   "metadata": {},
   "source": [
    "### Load GeoJSON"
   ]
  },
  {
   "cell_type": "code",
   "execution_count": null,
   "id": "70396b0d",
   "metadata": {},
   "outputs": [],
   "source": [
    "#choosing the country GeoJSON\n",
    "filepath = 'static/data/countries.geojson'"
   ]
  },
  {
   "cell_type": "code",
   "execution_count": null,
   "id": "dc0a214b",
   "metadata": {},
   "outputs": [],
   "source": [
    "#opeing GeoJSON\n",
    "with open(filepath) as f:\n",
    "    json_data = json.load(f)"
   ]
  },
  {
   "cell_type": "code",
   "execution_count": null,
   "id": "a5c46484",
   "metadata": {},
   "outputs": [],
   "source": [
    "#Check data format for each country's dictionary\n",
    "for i in range(10):\n",
    "    print(json_data['features'][i]['properties'])"
   ]
  },
  {
   "cell_type": "markdown",
   "id": "f286fee0",
   "metadata": {},
   "source": [
    "### Loading WRI from CSV"
   ]
  },
  {
   "cell_type": "code",
   "execution_count": null,
   "id": "92c64641",
   "metadata": {
    "scrolled": true
   },
   "outputs": [],
   "source": [
    "#read csv file \n",
    "df = pd.read_csv('static/data/english_dataset.csv')\n",
    "df.head()"
   ]
  },
  {
   "cell_type": "markdown",
   "id": "7a642d6e",
   "metadata": {},
   "source": [
    "### Add New Value to GeoJSON"
   ]
  },
  {
   "cell_type": "code",
   "execution_count": null,
   "id": "6a7153e9",
   "metadata": {},
   "outputs": [],
   "source": [
    "years = list(range(2011, 2022))\n",
    "years"
   ]
  },
  {
   "cell_type": "code",
   "execution_count": null,
   "id": "ae5f9895",
   "metadata": {},
   "outputs": [],
   "source": [
    "for year in years:\n",
    "    \n",
    "    df_year = df[df[\"year\"] == year].copy()\n",
    "    df_year = df_year.set_index('iso_code')\n",
    "    \n",
    "    for country in json_data['features']:\n",
    "        country_code = country['properties']['ISO_A3']\n",
    "    \n",
    "        try:\n",
    "            value_to_add = df_year.loc[country_code, :]['wri']\n",
    "            print(f'Adding value for {country_code}')\n",
    "        \n",
    "        except KeyError:\n",
    "            value_to_add = 0\n",
    "        \n",
    "        country['properties'][f'wri_{year}'] = value_to_add    "
   ]
  },
  {
   "cell_type": "code",
   "execution_count": null,
   "id": "fdfb4d1a",
   "metadata": {},
   "outputs": [],
   "source": [
    "#checking data\n",
    "for i in range(10):\n",
    "    print(json_data['features'][i]['properties'])"
   ]
  },
  {
   "cell_type": "markdown",
   "id": "354926b1",
   "metadata": {},
   "source": [
    "### Save Updated GeoJSON"
   ]
  },
  {
   "cell_type": "code",
   "execution_count": null,
   "id": "6e911a00",
   "metadata": {},
   "outputs": [],
   "source": [
    "with open('static/data/countries_wri.geojson', 'w', encoding='utf-8') as f:\n",
    "    json.dump(json_data, f, ensure_ascii=False, indent=4)"
   ]
  }
 ],
 "metadata": {
  "kernelspec": {
   "display_name": "Python 3.8.13 ('PythonData38')",
   "language": "python",
   "name": "python3"
  },
  "language_info": {
   "codemirror_mode": {
    "name": "ipython",
    "version": 3
   },
   "file_extension": ".py",
   "mimetype": "text/x-python",
   "name": "python",
   "nbconvert_exporter": "python",
   "pygments_lexer": "ipython3",
   "version": "3.8.13"
  },
  "vscode": {
   "interpreter": {
    "hash": "e185a8329bbc81baebabff62c00ecd3f5f0a4c33c82ac4196ffef7e01812faee"
   }
  }
 },
 "nbformat": 4,
 "nbformat_minor": 5
}
