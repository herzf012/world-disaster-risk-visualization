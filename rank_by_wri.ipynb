{
 "cells": [
  {
   "cell_type": "markdown",
   "metadata": {},
   "source": [
    " \n",
    "# Project 3:  World Disaster Risk Visualization \n",
    "\n",
    "# Contributors: Hyeeun Hughes, Lief Herzfeld, Jacob McManaman and Sarah Stoffel (Group 7)\n"
   ]
  },
  {
   "cell_type": "markdown",
   "metadata": {},
   "source": [
    "## Overview\n",
    "\n",
    "--- \n",
    "\n",
    "we visualized the World Risk Index category rank out of the 181 countries by year from 2011 to 2021.\n",
    "\n",
    "Here is the link to dataset: <br>\n",
    "https://www.kaggle.com/datasets/tr1gg3rtrash/global-disaster-risk-index-time-series-dataset <br>\n",
    "\n",
    "\n",
    "\n"
   ]
  },
  {
   "cell_type": "code",
   "execution_count": null,
   "metadata": {},
   "outputs": [],
   "source": [
    "import pandas as pd\n",
    "from sqlalchemy import create_engine, inspect"
   ]
  },
  {
   "cell_type": "markdown",
   "metadata": {},
   "source": [
    "# Extract"
   ]
  },
  {
   "cell_type": "markdown",
   "metadata": {},
   "source": [
    "### Extract CSVs into DataFrames\n",
    "\n",
    "We start by loading the csv file into dataframes and do .head() to see what's in the dataframes."
   ]
  },
  {
   "cell_type": "code",
   "execution_count": null,
   "metadata": {},
   "outputs": [],
   "source": [
    "wri_file = \"data/world_risk_index.csv\"\n",
    "wri_rank_df = pd.read_csv(wri_file)\n",
    "wri_rank_df.head()"
   ]
  },
  {
   "cell_type": "markdown",
   "metadata": {},
   "source": [
    "# Transform\n",
    "\n",
    "we selected the columns we needed, renamed them, and drop NaN values. "
   ]
  },
  {
   "cell_type": "code",
   "execution_count": null,
   "metadata": {},
   "outputs": [],
   "source": [
    "# Create a filtered dataframe from specific columns\n",
    "wri_rank_col = [\"Region\", \"WRI\", \"Year\", \"WRI Category\"]\n",
    "wri_rank_transformed_df = wri_rank_df[wri_rank_col].copy()\n",
    "\n",
    "# Drop any NaN values\n",
    "wri_rank_transformed_df = wri_rank_transformed_df.dropna()\n",
    "\n",
    "# Rename the column headers\n",
    "wri_rank_transformed_df = wri_rank_transformed_df.rename(columns={\"Region\": \"Country_Name\",\n",
    "                                                           \"WRI\": \"WRI_Score\",\n",
    "                                                           \"WRI Category\": \"WRI_Category\"})\n",
    "wri_rank_transformed_df.head()"
   ]
  },
  {
   "cell_type": "markdown",
   "metadata": {},
   "source": [
    "# Sort by Year\n",
    "\n",
    "\n",
    "we located them by year, and sorted by WRI_Score."
   ]
  },
  {
   "cell_type": "code",
   "execution_count": null,
   "metadata": {},
   "outputs": [],
   "source": [
    "# 2011\n",
    "wri_2011_df = wri_rank_transformed_df.loc[(wri_rank_transformed_df[\"Year\"] == 2011)]\n",
    "wri_2011_df"
   ]
  },
  {
   "cell_type": "code",
   "execution_count": null,
   "metadata": {},
   "outputs": [],
   "source": [
    "wri_2011_df.sort_values(\"WRI_Score\", ascending = True).head(60)"
   ]
  },
  {
   "cell_type": "code",
   "execution_count": null,
   "metadata": {},
   "outputs": [],
   "source": [
    "# 2012\n",
    "wri_2012_df = wri_rank_transformed_df.loc[(wri_rank_transformed_df[\"Year\"] == 2012)]\n",
    "wri_2012_df"
   ]
  },
  {
   "cell_type": "code",
   "execution_count": null,
   "metadata": {},
   "outputs": [],
   "source": [
    "wri_2012_df.sort_values(\"WRI_Score\", ascending = True).head(60)"
   ]
  },
  {
   "cell_type": "code",
   "execution_count": null,
   "metadata": {},
   "outputs": [],
   "source": [
    "# 2013\n",
    "wri_2013_df = wri_rank_transformed_df.loc[(wri_rank_transformed_df[\"Year\"] == 2013)]\n",
    "wri_2013_df"
   ]
  },
  {
   "cell_type": "code",
   "execution_count": null,
   "metadata": {},
   "outputs": [],
   "source": [
    "wri_2013_df.sort_values(\"WRI_Score\", ascending = True).head(60)"
   ]
  },
  {
   "cell_type": "code",
   "execution_count": null,
   "metadata": {},
   "outputs": [],
   "source": [
    "# 2014\n",
    "wri_2014_df = wri_rank_transformed_df.loc[(wri_rank_transformed_df[\"Year\"] == 2014)]\n",
    "wri_2014_df"
   ]
  },
  {
   "cell_type": "code",
   "execution_count": null,
   "metadata": {},
   "outputs": [],
   "source": [
    "wri_2014_df.sort_values(\"WRI_Score\", ascending = True).head(60)"
   ]
  },
  {
   "cell_type": "code",
   "execution_count": null,
   "metadata": {},
   "outputs": [],
   "source": [
    "# 2015\n",
    "wri_2015_df = wri_rank_transformed_df.loc[(wri_rank_transformed_df[\"Year\"] == 2015)]\n",
    "wri_2015_df"
   ]
  },
  {
   "cell_type": "code",
   "execution_count": null,
   "metadata": {},
   "outputs": [],
   "source": [
    "wri_2015_df.sort_values(\"WRI_Score\", ascending = True).head(60)"
   ]
  },
  {
   "cell_type": "code",
   "execution_count": null,
   "metadata": {},
   "outputs": [],
   "source": [
    "# 2016\n",
    "wri_2016_df = wri_rank_transformed_df.loc[(wri_rank_transformed_df[\"Year\"] == 2016)]\n",
    "wri_2016_df"
   ]
  },
  {
   "cell_type": "code",
   "execution_count": null,
   "metadata": {},
   "outputs": [],
   "source": [
    "wri_2016_df.sort_values(\"WRI_Score\", ascending = True).head(60)"
   ]
  },
  {
   "cell_type": "code",
   "execution_count": null,
   "metadata": {},
   "outputs": [],
   "source": [
    "# 2017\n",
    "wri_2017_df = wri_rank_transformed_df.loc[(wri_rank_transformed_df[\"Year\"] == 2017)]\n",
    "wri_2017_df"
   ]
  },
  {
   "cell_type": "code",
   "execution_count": null,
   "metadata": {},
   "outputs": [],
   "source": [
    "wri_2017_df.sort_values(\"WRI_Score\", ascending = True).head(60)"
   ]
  },
  {
   "cell_type": "code",
   "execution_count": null,
   "metadata": {},
   "outputs": [],
   "source": [
    "# 2018\n",
    "wri_2018_df = wri_rank_transformed_df.loc[(wri_rank_transformed_df[\"Year\"] == 2018)]\n",
    "wri_2018_df"
   ]
  },
  {
   "cell_type": "code",
   "execution_count": null,
   "metadata": {},
   "outputs": [],
   "source": [
    "wri_2018_df.sort_values(\"WRI_Score\", ascending = True).head(60)"
   ]
  },
  {
   "cell_type": "code",
   "execution_count": null,
   "metadata": {},
   "outputs": [],
   "source": [
    "# 2019\n",
    "wri_2019_df = wri_rank_transformed_df.loc[(wri_rank_transformed_df[\"Year\"] == 2019)]\n",
    "wri_2019_df"
   ]
  },
  {
   "cell_type": "code",
   "execution_count": null,
   "metadata": {},
   "outputs": [],
   "source": [
    "wri_2019_df.sort_values(\"WRI_Score\", ascending = True).head(60)"
   ]
  },
  {
   "cell_type": "code",
   "execution_count": null,
   "metadata": {},
   "outputs": [],
   "source": [
    "# 2020\n",
    "wri_2020_df = wri_rank_transformed_df.loc[(wri_rank_transformed_df[\"Year\"] == 2020)]\n",
    "wri_2020_df"
   ]
  },
  {
   "cell_type": "code",
   "execution_count": null,
   "metadata": {},
   "outputs": [],
   "source": [
    "wri_2020_df.sort_values(\"WRI_Score\", ascending = True).head(60)"
   ]
  },
  {
   "cell_type": "code",
   "execution_count": null,
   "metadata": {},
   "outputs": [],
   "source": [
    "# 2021\n",
    "wri_2021_df = wri_rank_transformed_df.loc[(wri_rank_transformed_df[\"Year\"] == 2021)]\n",
    "wri_2021_df"
   ]
  },
  {
   "cell_type": "code",
   "execution_count": null,
   "metadata": {},
   "outputs": [],
   "source": [
    "wri_2021_df.sort_values(\"WRI_Score\", ascending = True).head(60)"
   ]
  },
  {
   "cell_type": "code",
   "execution_count": null,
   "metadata": {},
   "outputs": [],
   "source": []
  },
  {
   "cell_type": "code",
   "execution_count": null,
   "metadata": {},
   "outputs": [],
   "source": []
  }
 ],
 "metadata": {
  "kernelspec": {
   "display_name": "Python 3 (ipykernel)",
   "language": "python",
   "name": "python3"
  },
  "language_info": {
   "codemirror_mode": {
    "name": "ipython",
    "version": 3
   },
   "file_extension": ".py",
   "mimetype": "text/x-python",
   "name": "python",
   "nbconvert_exporter": "python",
   "pygments_lexer": "ipython3",
   "version": "3.8.13"
  },
  "vscode": {
   "interpreter": {
    "hash": "1f78a047c99b4f17a0e7237493734d26292b1f2c9976de3edda0bfe15442e82b"
   }
  }
 },
 "nbformat": 4,
 "nbformat_minor": 2
}
